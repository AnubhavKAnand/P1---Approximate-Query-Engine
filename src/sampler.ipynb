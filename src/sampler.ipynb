{
 "cells": [
  {
   "cell_type": "code",
   "execution_count": 1,
   "id": "862ab9d6-a17c-42b4-9e14-e8fa9d238999",
   "metadata": {},
   "outputs": [],
   "source": [
    "import pandas as pd"
   ]
  },
  {
   "cell_type": "code",
   "execution_count": 12,
   "id": "9c79c774-aaf9-4d24-9b73-a03192a583d0",
   "metadata": {},
   "outputs": [],
   "source": [
    "def uniform_sample(df: pd.DataFrame, frac: float, random_state: int = 42) -> pd.DataFrame:\n",
    "    \"\"\"Return a uniform random sample of the dataframe rows.\"\"\"\n",
    "    if not 0 < frac <= 1:\n",
    "        raise ValueError('frac must be in (0, 1]')\n",
    "    return df.sample(frac=frac, random_state=random_state)"
   ]
  }
 ],
 "metadata": {
  "kernelspec": {
   "display_name": "Python 3 (ipykernel)",
   "language": "python",
   "name": "python3"
  },
  "language_info": {
   "codemirror_mode": {
    "name": "ipython",
    "version": 3
   },
   "file_extension": ".py",
   "mimetype": "text/x-python",
   "name": "python",
   "nbconvert_exporter": "python",
   "pygments_lexer": "ipython3",
   "version": "3.11.7"
  }
 },
 "nbformat": 4,
 "nbformat_minor": 5
}
