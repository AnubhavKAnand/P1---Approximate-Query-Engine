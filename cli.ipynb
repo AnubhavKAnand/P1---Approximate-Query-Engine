{
 "cells": [
  {
   "cell_type": "code",
   "execution_count": null,
   "id": "86044598-1027-4a1c-abf5-87dc8df3f533",
   "metadata": {},
   "outputs": [],
   "source": [
    "import argparse\n",
    "import pandas as pd\n",
    "import time\n",
    "from .exact_engine import ExactQueryEngine\n",
    "from .approx_engine import ApproxQueryEngine"
   ]
  },
  {
   "cell_type": "code",
   "execution_count": null,
   "id": "8180edd1-7aec-4e08-b7d2-63dbc36b80c1",
   "metadata": {},
   "outputs": [],
   "source": [
    "def load_data(path):\n",
    "    return pd.read_csv(path, parse_dates=['ts'])\n",
    "\n",
    "def main():\n",
    "    parser = argparse.ArgumentParser()\n",
    "    parser.add_argument('--data', default='data/sample_data.csv')\n",
    "    parser.add_argument('--sample_frac', type=float, default=0.1)\n",
    "    parser.add_argument('--agg', default='COUNT')\n",
    "    parser.add_argument('--col', default=None)\n",
    "    parser.add_argument('--group_by', default='group')\n",
    "    \n",
    "    \n",
    "    args = parser.parse_args()\n",
    "    df = load_data(args.data)\n",
    "    \n",
    "    \n",
    "    exact = ExactQueryEngine(df)\n",
    "    approx = ApproxQueryEngine(df, sample_frac=args.sample_frac)\n",
    "    \n",
    "    \n",
    "    group_by = args.group_by.split(',') if args.group_by else None\n",
    "    \n",
    "    \n",
    "    t0 = time.time()\n",
    "    ex = exact.query(args.agg, col=args.col, group_by=group_by)\n",
    "    t1 = time.time()\n",
    "    ap = approx.query(args.agg, col=args.col, group_by=group_by)\n",
    "    t2 = time.time()\n",
    "    \n",
    "    \n",
    "    print(f'Exact runtime: {t1-t0:.4f}s, Approx runtime: {t2-t1:.4f}s (sample_frac={args.sample_frac})')\n",
    "    print('\\nExact result (head):')\n",
    "    print(ex.head())\n",
    "    print('\\nApprox result (head):')\n",
    "    print(ap.head())\n",
    "\n",
    "\n",
    "\n",
    "\n",
    "if __name__ == '__main__':\n",
    "    main()"
   ]
  }
 ],
 "metadata": {
  "kernelspec": {
   "display_name": "Python 3 (ipykernel)",
   "language": "python",
   "name": "python3"
  },
  "language_info": {
   "codemirror_mode": {
    "name": "ipython",
    "version": 3
   },
   "file_extension": ".py",
   "mimetype": "text/x-python",
   "name": "python",
   "nbconvert_exporter": "python",
   "pygments_lexer": "ipython3",
   "version": "3.11.7"
  }
 },
 "nbformat": 4,
 "nbformat_minor": 5
}
