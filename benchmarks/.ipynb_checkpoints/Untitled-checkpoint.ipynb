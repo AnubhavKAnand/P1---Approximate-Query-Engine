{
 "cells": [
  {
   "cell_type": "code",
   "execution_count": null,
   "id": "de4e2abe-2efa-4748-a43a-3996bee54b85",
   "metadata": {},
   "outputs": [],
   "source": [
    "import time\n",
    "import pandas as pd\n",
    "import numpy as np\n",
    "import os\n",
    "import sys"
   ]
  },
  {
   "cell_type": "code",
   "execution_count": null,
   "id": "99d53623-b8f3-4090-b6aa-a089daf090ad",
   "metadata": {},
   "outputs": [],
   "source": [
    "# ensure project root on path\n",
    "sys.path.append(os.path.join(os.path.dirname(__file__), '..'))\n",
    "\n",
    "from src.exact_engine import ExactQueryEngine\n",
    "from src.approx_engine import ApproxQueryEngine\n",
    "\n",
    "def relative_error(df_true, df_est, key_col, val_col_true, val_col_est):\n",
    "    df = df_true.merge(df_est, on=key_col, how='left')\n",
    "    df[val_col_est] = df[val_col_est].fillna(0)\n",
    "    mask = df[val_col_true] != 0\n",
    "    df['rel_err'] = 0.0\n",
    "    df.loc[mask, 'rel_err'] = (df.loc[mask, val_col_est] - df.loc[mask, val_col_true]).abs() / df.loc[mask, val_col_true]\n",
    "    return df['rel_err'].mean()\n",
    "\n",
    "def run_benchmark(path='data/sample_data.csv', agg='SUM', col='value', group_by=['group'], out_csv='benchmarks/results.csv'):\n",
    "    df = pd.read_csv(path)\n",
    "    exact = ExactQueryEngine(df)\n",
    "    true = exact.query(agg, col=col, group_by=group_by)\n",
    "    \n",
    "    fractions = [0.01, 0.02, 0.05, 0.1, 0.2]\n",
    "    results = []\n",
    "    \n",
    "    for f in fractions:\n",
    "        start = time.time()\n",
    "        approx = ApproxQueryEngine(df, sample_frac=f)\n",
    "        est = approx.query(agg, col=col, group_by=group_by)\n",
    "        dur = time.time() - start   \n",
    "        if agg == 'SUM':\n",
    "            val_true = 'sum'\n",
    "            val_est = 'est_sum'\n",
    "        elif agg == 'COUNT':\n",
    "            val_true = 'count'\n",
    "            val_est = 'est_count'\n",
    "        elif agg in ('AVG', 'MEAN'):\n",
    "            val_true = 'avg'\n",
    "            val_est = 'sample_mean'\n",
    "        else:\n",
    "            raise ValueError('agg not supported in benchmark')     \n",
    "        err = relative_error(true, est, key_col=group_by, val_col_true=val_true, val_col_est=val_est)\n",
    "        results.append({'frac': f, 'time_sec': dur, 'rel_error': err})\n",
    "        print(f'frac={f:.2f}: time={dur:.4f}s rel_error={err:.4f}')\n",
    "     \n",
    "    df_results = pd.DataFrame(results)\n",
    "    df_results.to_csv(out_csv, index=False)\n",
    "    print(f'\\nSaved benchmark results to {out_csv}')\n",
    "    return df_results\n",
    "\n",
    "if __name__ == '__main__':\n",
    "run_benchmark()"
   ]
  },
  {
   "cell_type": "code",
   "execution_count": null,
   "id": "c9aa5ba8-2988-4936-9bd4-b1f90ca86b03",
   "metadata": {},
   "outputs": [],
   "source": []
  }
 ],
 "metadata": {
  "kernelspec": {
   "display_name": "Python 3 (ipykernel)",
   "language": "python",
   "name": "python3"
  },
  "language_info": {
   "codemirror_mode": {
    "name": "ipython",
    "version": 3
   },
   "file_extension": ".py",
   "mimetype": "text/x-python",
   "name": "python",
   "nbconvert_exporter": "python",
   "pygments_lexer": "ipython3",
   "version": "3.11.7"
  }
 },
 "nbformat": 4,
 "nbformat_minor": 5
}
