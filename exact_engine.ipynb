{
 "cells": [
  {
   "cell_type": "code",
   "execution_count": 2,
   "id": "183155da-95b8-4431-98ee-bc45b7c22629",
   "metadata": {},
   "outputs": [],
   "source": [
    "import pandas as pd\n",
    "from typing import List, Optional"
   ]
  },
  {
   "cell_type": "code",
   "execution_count": 6,
   "id": "76dc1f55-b3d8-48e0-ae3a-b9e55498d9a8",
   "metadata": {},
   "outputs": [],
   "source": [
    "class ExactQueryEngine:\n",
    "    def __init__(self, df: pd.DataFrame):\n",
    "        self.df = df\n",
    "    \n",
    "    \n",
    "    def query(self, agg: str, col: Optional[str] = None, group_by: Optional[List[str]] = None, where=None):\n",
    "        d = self.df\n",
    "        if where is not None:\n",
    "            d = d.query(where)\n",
    "        \n",
    "        gb = d.groupby(group_by) if group_by else None\n",
    "        \n",
    "        agg = agg.upper()\n",
    "        if agg == 'COUNT':\n",
    "            if gb is not None:\n",
    "                return gb.size().reset_index(name='count')\n",
    "            return pd.DataFrame([{'count': len(d)}])\n",
    "        if agg == 'SUM':\n",
    "            if col is None:\n",
    "                raise ValueError('SUM needs a column')\n",
    "            if gb is not None:\n",
    "                return gb[col].sum().reset_index(name='sum')\n",
    "            return pd.DataFrame([{'sum': d[col].sum()}])\n",
    "        if agg == 'AVG' or agg == 'MEAN':\n",
    "            if col is None:\n",
    "                raise ValueError('AVG needs a column')\n",
    "            if gb is not None:\n",
    "                return gb[col].mean().reset_index(name='avg')\n",
    "            return pd.DataFrame([{'avg': d[col].mean()}]) \n",
    "        raise ValueError(f'Unknown agg: {agg}')"
   ]
  },
  {
   "cell_type": "code",
   "execution_count": null,
   "id": "b8656900-e189-4a7c-a6e7-d4fb3715513e",
   "metadata": {},
   "outputs": [],
   "source": []
  }
 ],
 "metadata": {
  "kernelspec": {
   "display_name": "Python 3 (ipykernel)",
   "language": "python",
   "name": "python3"
  },
  "language_info": {
   "codemirror_mode": {
    "name": "ipython",
    "version": 3
   },
   "file_extension": ".py",
   "mimetype": "text/x-python",
   "name": "python",
   "nbconvert_exporter": "python",
   "pygments_lexer": "ipython3",
   "version": "3.11.7"
  }
 },
 "nbformat": 4,
 "nbformat_minor": 5
}
